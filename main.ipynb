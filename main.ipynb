{
 "cells": [
  {
   "cell_type": "code",
   "execution_count": 1,
   "metadata": {},
   "outputs": [
    {
     "name": "stderr",
     "output_type": "stream",
     "text": [
      "Using TensorFlow backend.\n"
     ]
    }
   ],
   "source": [
    "from ChannelEstimatorCNN import ChannelEstimatorCNN\n",
    "from scipy import io\n",
    "import numpy as np\n",
    "import matplotlib.pyplot as plt"
   ]
  },
  {
   "cell_type": "code",
   "execution_count": 2,
   "metadata": {},
   "outputs": [
    {
     "name": "stdout",
     "output_type": "stream",
     "text": [
      "_________________________________________________________________\n",
      "Layer (type)                 Output Shape              Param #   \n",
      "=================================================================\n",
      "input_1 (InputLayer)         (None, 72, 14, 2)         0         \n",
      "_________________________________________________________________\n",
      "conv2d_1 (Conv2D)            (None, 72, 14, 64)        3136      \n",
      "_________________________________________________________________\n",
      "conv2d_2 (Conv2D)            (None, 72, 14, 32)        2080      \n",
      "_________________________________________________________________\n",
      "conv2d_3 (Conv2D)            (None, 72, 14, 2)         386       \n",
      "=================================================================\n",
      "Total params: 5,602\n",
      "Trainable params: 5,602\n",
      "Non-trainable params: 0\n",
      "_________________________________________________________________\n"
     ]
    }
   ],
   "source": [
    "Data_file = 'Ch_real_VehA_14.mat'\n",
    "model = ChannelEstimatorCNN()\n",
    "\n",
    "##load train data\n",
    "channels = io.loadmat(Data_file)['channels']\n",
    "reals = np.real(channels)\n",
    "imags = np.imag(channels)\n",
    "\n",
    "# desire outputs\n",
    "out_train = np.zeros(reals.shape+(2,))\n",
    "out_train[:,:,:,0] = reals\n",
    "out_train[:,:,:,1] = imags"
   ]
  },
  {
   "cell_type": "code",
   "execution_count": 10,
   "metadata": {},
   "outputs": [
    {
     "name": "stdout",
     "output_type": "stream",
     "text": [
      "Train on 34000 samples, validate on 6000 samples\n",
      "Epoch 1/1\n",
      "34000/34000 [==============================] - 109s - loss: 0.1804 - val_loss: 0.1605\n"
     ]
    }
   ],
   "source": [
    "a,b = model.train(out_train, epochs=1)"
   ]
  },
  {
   "cell_type": "code",
   "execution_count": 4,
   "metadata": {},
   "outputs": [
    {
     "data": {
      "text/plain": [
       "3.3711528778076172"
      ]
     },
     "execution_count": 4,
     "metadata": {},
     "output_type": "execute_result"
    }
   ],
   "source": [
    "model.scaler['max']"
   ]
  },
  {
   "cell_type": "code",
   "execution_count": 5,
   "metadata": {},
   "outputs": [
    {
     "data": {
      "text/plain": [
       "array([[[ 0.51538625,  0.47000656],\n",
       "        [ 0.51564357,  0.46885423],\n",
       "        [ 0.51582996,  0.46762523],\n",
       "        ..., \n",
       "        [ 0.514141  ,  0.45365431],\n",
       "        [ 0.51356471,  0.45187079],\n",
       "        [ 0.51290969,  0.45006005]],\n",
       "\n",
       "       [[ 0.50784833,  0.47014738],\n",
       "        [ 0.50824182,  0.46898744],\n",
       "        [ 0.50857262,  0.46775278],\n",
       "        ..., \n",
       "        [ 0.5085503 ,  0.45381423],\n",
       "        [ 0.50819603,  0.45204294],\n",
       "        [ 0.50776958,  0.45024597]],\n",
       "\n",
       "       [[ 0.5006738 ,  0.47092546],\n",
       "        [ 0.50122664,  0.46974142],\n",
       "        [ 0.50172462,  0.4684838 ],\n",
       "        ..., \n",
       "        [ 0.50355213,  0.45438618],\n",
       "        [ 0.50343714,  0.45260234],\n",
       "        [ 0.50325579,  0.45079378]],\n",
       "\n",
       "       ..., \n",
       "       [[ 0.48167544,  0.68107582],\n",
       "        [ 0.47802326,  0.67690718],\n",
       "        [ 0.47445696,  0.67250826],\n",
       "        ..., \n",
       "        [ 0.44605498,  0.62310595],\n",
       "        [ 0.44335519,  0.61669289],\n",
       "        [ 0.44075199,  0.61012895]],\n",
       "\n",
       "       [[ 0.48569201,  0.67801146],\n",
       "        [ 0.48186968,  0.6738479 ],\n",
       "        [ 0.47813347,  0.66945446],\n",
       "        ..., \n",
       "        [ 0.44821953,  0.62013235],\n",
       "        [ 0.44535781,  0.61373308],\n",
       "        [ 0.4425946 ,  0.60718421]],\n",
       "\n",
       "       [[ 0.48915659,  0.6749263 ],\n",
       "        [ 0.48515943,  0.67080133],\n",
       "        [ 0.48124913,  0.66644642],\n",
       "        ..., \n",
       "        [ 0.44981057,  0.61747867],\n",
       "        [ 0.44678849,  0.61112014],\n",
       "        [ 0.44386749,  0.60461245]]])"
      ]
     },
     "execution_count": 5,
     "metadata": {},
     "output_type": "execute_result"
    }
   ],
   "source": [
    "b"
   ]
  },
  {
   "cell_type": "code",
   "execution_count": 6,
   "metadata": {},
   "outputs": [],
   "source": [
    "model.saveModel()"
   ]
  },
  {
   "cell_type": "code",
   "execution_count": 11,
   "metadata": {},
   "outputs": [
    {
     "name": "stderr",
     "output_type": "stream",
     "text": [
      "C:\\Users\\Ali\\Anaconda3\\lib\\site-packages\\matplotlib\\figure.py:418: UserWarning: matplotlib is currently using a non-GUI backend, so cannot show the figure\n",
      "  \"matplotlib is currently using a non-GUI backend, \"\n"
     ]
    }
   ],
   "source": [
    "test_data = out_train[0:10,:,:,:]\n",
    "test_predicted = model.test(test_data)\n",
    "fig = plt.figure(figsize=(20, 20))\n",
    "ax = fig.add_subplot(2,2,1)\n",
    "ax.imshow(test_data[0,:,:,0])\n",
    "ax = fig.add_subplot(2,2,2)\n",
    "ax.imshow(test_data[0,:,:,1])\n",
    "ax = fig.add_subplot(2,2,3)\n",
    "ax.imshow(test_predicted[0,:,:,0])\n",
    "ax = fig.add_subplot(2,2,4)\n",
    "ax.imshow(test_predicted[0,:,:,1])\n",
    "fig.show()"
   ]
  },
  {
   "cell_type": "code",
   "execution_count": 15,
   "metadata": {},
   "outputs": [
    {
     "data": {
      "text/plain": [
       "-2.5241332"
      ]
     },
     "execution_count": 15,
     "metadata": {},
     "output_type": "execute_result"
    }
   ],
   "source": [
    "np.min(test_predicted[0,:,:,0])"
   ]
  },
  {
   "cell_type": "code",
   "execution_count": 12,
   "metadata": {},
   "outputs": [
    {
     "data": {
      "image/png": "[encoded data removed]",
      "text/plain": [
       "<matplotlib.figure.Figure at 0x2dccd0c36d8>"
      ]
     },
     "metadata": {},
     "output_type": "display_data"
    }
   ],
   "source": [
    "plt.show()"
   ]
  }
 ],
 "metadata": {
  "kernelspec": {
   "display_name": "Python 3",
   "language": "python",
   "name": "python3"
  },
  "language_info": {
   "codemirror_mode": {
    "name": "ipython",
    "version": 3
   },
   "file_extension": ".py",
   "mimetype": "text/x-python",
   "name": "python",
   "nbconvert_exporter": "python",
   "pygments_lexer": "ipython3",
   "version": "3.6.3"
  }
 },
 "nbformat": 4,
 "nbformat_minor": 2
}
