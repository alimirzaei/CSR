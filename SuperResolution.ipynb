{
 "cells": [
  {
   "cell_type": "code",
   "execution_count": 20,
   "metadata": {},
   "outputs": [],
   "source": [
    "# -*- coding: utf-8 -*-\n",
    "\"\"\"\n",
    "@author: Ali Mirzaei\n",
    "\"\"\"\n",
    "\n",
    "from __future__ import print_function\n",
    "import numpy as np\n",
    "from keras.layers import Input, Conv2D, merge\n",
    "from keras.models import Model\n",
    "from keras.callbacks import LearningRateScheduler\n",
    "from keras import backend as K\n",
    "from keras.optimizers import Adam\n",
    "import matplotlib.pyplot as plt\n",
    "import h5py\n",
    "import math\n",
    "from scipy import io\n",
    "from copy import copy\n",
    "from scipy import misc"
   ]
  },
  {
   "cell_type": "code",
   "execution_count": 21,
   "metadata": {
    "collapsed": true
   },
   "outputs": [],
   "source": [
    "Data_file = 'Ch_real_VehA_14.mat'\n",
    "def PSNRLoss(y_true, y_pred):\n",
    "    \"\"\"\n",
    "    PSNR is Peek Signal to Noise Ratio, which is similar to mean squared error.\n",
    "    It can be calculated as\n",
    "    PSNR = 20 * log10(MAXp) - 10 * log10(MSE)\n",
    "    When providing an unscaled input, MAXp = 255. Therefore 20 * log10(255)== 48.1308036087.\n",
    "    However, since we are scaling our input, MAXp = 1. Therefore 20 * log10(1) = 0.\n",
    "    Thus we remove that component completely and only compute the remaining MSE component.\n",
    "    \"\"\"\n",
    "    return -10. * K.log(K.mean(K.square(y_pred - y_true)))/K.log(10.)\n",
    "\n",
    "def step_decay(epoch):\n",
    "    initial_lrate = 0.001\n",
    "    drop = 0.1\n",
    "    epochs_drop = 20\n",
    "    lrate = initial_lrate * math.pow(drop, math.floor((1+epoch)/epochs_drop))\n",
    "    return lrate"
   ]
  },
  {
   "cell_type": "code",
   "execution_count": 58,
   "metadata": {
    "collapsed": true
   },
   "outputs": [],
   "source": [
    "def getModel():\n",
    "    #input imaage dimensions\n",
    "    img_rows, img_cols = 72, 14\n",
    "    out_rows, out_cols = 72, 14\n",
    "    #filter number\n",
    "    n1 = 64\n",
    "    n2 = 32\n",
    "    n3 = 2\n",
    "    #filter size\n",
    "    f1 = 9\n",
    "    f2 = 1\n",
    "    f3 = 5\n",
    "    initializer = 'zeros' #'he_normal'\n",
    "    x = Input(shape = (72, 14, 2))\n",
    "    c1 = Conv2D(n1, (6, 4), activation = 'relu', kernel_initializer = initializer , padding='same')(x)\n",
    "    c2 = Conv2D(n2, (1, 1), activation = 'relu', kernel_initializer = initializer, padding='same')(c1)\n",
    "    c3 = Conv2D(n3, (3, 2), kernel_initializer = initializer, padding='same')(c2)\n",
    "    model = Model(x, c3)\n",
    "    model.summary()\n",
    "    ##compile\n",
    "    adam = Adam(lr=0.001, beta_1=0.9, beta_2=0.999, epsilon=1e-8) \n",
    "    model.compile(loss='mse', metrics=[PSNRLoss], optimizer=adam)  \n",
    "    return model"
   ]
  },
  {
   "cell_type": "code",
   "execution_count": 60,
   "metadata": {},
   "outputs": [
    {
     "name": "stdout",
     "output_type": "stream",
     "text": [
      "_________________________________________________________________\n",
      "Layer (type)                 Output Shape              Param #   \n",
      "=================================================================\n",
      "input_5 (InputLayer)         (None, 72, 14, 2)         0         \n",
      "_________________________________________________________________\n",
      "conv2d_13 (Conv2D)           (None, 72, 14, 64)        3136      \n",
      "_________________________________________________________________\n",
      "conv2d_14 (Conv2D)           (None, 72, 14, 32)        2080      \n",
      "_________________________________________________________________\n",
      "conv2d_15 (Conv2D)           (None, 72, 14, 2)         386       \n",
      "=================================================================\n",
      "Total params: 5,602\n",
      "Trainable params: 5,602\n",
      "Non-trainable params: 0\n",
      "_________________________________________________________________\n"
     ]
    }
   ],
   "source": [
    "model = getModel()"
   ]
  },
  {
   "cell_type": "code",
   "execution_count": 61,
   "metadata": {
    "collapsed": true
   },
   "outputs": [],
   "source": [
    "\n",
    "##load train data\n",
    "channels = io.loadmat(Data_file)['channels']\n",
    "reals = np.real(channels)\n",
    "imags = np.imag(channels)\n",
    "\n",
    "# desire outputs\n",
    "out_train = np.zeros(reals.shape+(2,))\n",
    "out_train[:,:,:,0] = reals\n",
    "out_train[:,:,:,1] = imags"
   ]
  },
  {
   "cell_type": "code",
   "execution_count": 62,
   "metadata": {},
   "outputs": [],
   "source": [
    "max_out = np.max(out_train)\n",
    "min_out = np.min(out_train)\n",
    "\n",
    "# normalize training samples\n",
    "out_train = (out_train-min_out)/(max_out-min_out)"
   ]
  },
  {
   "cell_type": "code",
   "execution_count": 63,
   "metadata": {},
   "outputs": [],
   "source": [
    "sampled = copy(out_train[:,1::6, 1::4,:])"
   ]
  },
  {
   "cell_type": "code",
   "execution_count": 54,
   "metadata": {},
   "outputs": [],
   "source": [
    "noisy_sampled = sampled + .05*np.random.randn(*sampled.shape)"
   ]
  },
  {
   "cell_type": "code",
   "execution_count": 55,
   "metadata": {},
   "outputs": [
    {
     "data": {
      "image/png": "[encoded data removed]",
      "text/plain": [
       "<matplotlib.figure.Figure at 0x1f72bc7c780>"
      ]
     },
     "metadata": {},
     "output_type": "display_data"
    },
    {
     "data": {
      "image/png": "[encoded data removed]",
      "text/plain": [
       "<matplotlib.figure.Figure at 0x1f72bd1dc50>"
      ]
     },
     "metadata": {},
     "output_type": "display_data"
    }
   ],
   "source": [
    "plt.imshow(sampled[0,:,:,0])\n",
    "plt.show()\n",
    "plt.imshow(noisy_sampled[0,:,:,0])\n",
    "plt.show()"
   ]
  },
  {
   "cell_type": "code",
   "execution_count": 56,
   "metadata": {},
   "outputs": [
    {
     "name": "stderr",
     "output_type": "stream",
     "text": [
      "C:\\Users\\Ali\\Anaconda3\\lib\\site-packages\\ipykernel_launcher.py:4: DeprecationWarning: `imresize` is deprecated!\n",
      "`imresize` is deprecated in SciPy 1.0.0, and will be removed in 1.2.0.\n",
      "Use ``skimage.transform.resize`` instead.\n",
      "  after removing the cwd from sys.path.\n",
      "C:\\Users\\Ali\\Anaconda3\\lib\\site-packages\\ipykernel_launcher.py:5: DeprecationWarning: `imresize` is deprecated!\n",
      "`imresize` is deprecated in SciPy 1.0.0, and will be removed in 1.2.0.\n",
      "Use ``skimage.transform.resize`` instead.\n",
      "  \"\"\"\n"
     ]
    }
   ],
   "source": [
    "# resize images to original size\n",
    "in_train = np.zeros(out_train.shape)\n",
    "for i,im in enumerate(noisy_sampled):\n",
    "    in_train[i,:,:,0] = misc.imresize(im[:,:,0], size=(72,14))\n",
    "    in_train[i,:,:,1] = misc.imresize(im[:,:,1], size=(72,14))"
   ]
  },
  {
   "cell_type": "code",
   "execution_count": 64,
   "metadata": {},
   "outputs": [
    {
     "data": {
      "image/png": "[encoded data removed]",
      "text/plain": [
       "<matplotlib.figure.Figure at 0x1f70209d4e0>"
      ]
     },
     "metadata": {},
     "output_type": "display_data"
    },
    {
     "data": {
      "image/png": "[encoded data removed]",
      "text/plain": [
       "<matplotlib.figure.Figure at 0x1f70000ecc0>"
      ]
     },
     "metadata": {},
     "output_type": "display_data"
    }
   ],
   "source": [
    "plt.imshow(in_train[0,:,:,0])\n",
    "plt.show()\n",
    "plt.imshow(out_train[0,:,:,0])\n",
    "plt.show()"
   ]
  },
  {
   "cell_type": "code",
   "execution_count": 71,
   "metadata": {},
   "outputs": [
    {
     "name": "stdout",
     "output_type": "stream",
     "text": [
      "in_train shape: (40000, 72, 14, 2)\n",
      "40000 train samples\n",
      "Train on 34000 samples, validate on 6000 samples\n",
      "Epoch 1/1\n",
      "34000/34000 [==============================] - 152s - loss: 0.0122 - PSNRLoss: 19.1501 - val_loss: 0.0119 - val_PSNRLoss: 19.2836\n"
     ]
    }
   ],
   "source": [
    "input_shape = (72, 14, 2)\n",
    "batch_size = 64\n",
    "nb_epoch = 1\n",
    "\n",
    "#print number of training patches\n",
    "print('in_train shape:', in_train.shape)\n",
    "print(in_train.shape[0], 'train samples')\n",
    "#SR Model\n",
    "#input tensor for a 1_channel image region\n",
    "\n",
    "# learning schedule callback\n",
    "lrate = LearningRateScheduler(step_decay)\n",
    "callbacks_list = [lrate]\n",
    "history = model.fit(in_train, out_train, batch_size=batch_size, epochs=nb_epoch, callbacks = [lrate],\n",
    "          verbose=1,validation_split=0.15)    "
   ]
  },
  {
   "cell_type": "code",
   "execution_count": 47,
   "metadata": {},
   "outputs": [
    {
     "name": "stdout",
     "output_type": "stream",
     "text": [
      "dict_keys(['val_loss', 'val_PSNRLoss', 'loss', 'PSNRLoss'])\n"
     ]
    },
    {
     "data": {
      "image/png": "[encoded data removed]",
      "text/plain": [
       "<matplotlib.figure.Figure at 0x1f744f17908>"
      ]
     },
     "metadata": {},
     "output_type": "display_data"
    }
   ],
   "source": [
    "print(history.history.keys())\n",
    "#save model and weights\n",
    "json_string = model.to_json()  \n",
    "open('srcnn_model.json','w').write(json_string)  \n",
    "model.save_weights('srcnn_model_weights.h5') \n",
    "# summarize history for loss\n",
    "plt.plot(history.history['PSNRLoss'])\n",
    "plt.plot(history.history['val_PSNRLoss'])\n",
    "plt.title('model loss')\n",
    "plt.ylabel('PSNR/dB')\n",
    "plt.xlabel('epoch')\n",
    "plt.legend(['train', 'test'], loc='lower right')\n",
    "plt.show()"
   ]
  },
  {
   "cell_type": "code",
   "execution_count": 72,
   "metadata": {},
   "outputs": [],
   "source": [
    "out_p = model.predict(in_train[0:1])"
   ]
  },
  {
   "cell_type": "code",
   "execution_count": 73,
   "metadata": {},
   "outputs": [
    {
     "data": {
      "image/png": "[encoded data removed]",
      "text/plain": [
       "<matplotlib.figure.Figure at 0x1f70006ac88>"
      ]
     },
     "metadata": {},
     "output_type": "display_data"
    },
    {
     "data": {
      "image/png": "[encoded data removed]",
      "text/plain": [
       "<matplotlib.figure.Figure at 0x1f72a32f390>"
      ]
     },
     "metadata": {},
     "output_type": "display_data"
    },
    {
     "data": {
      "image/png": "[encoded data removed]",
      "text/plain": [
       "<matplotlib.figure.Figure at 0x1f72a39ac88>"
      ]
     },
     "metadata": {},
     "output_type": "display_data"
    }
   ],
   "source": [
    "plt.imshow(in_train[0,:,:,0])\n",
    "plt.show()\n",
    "\n",
    "plt.imshow(out_train[0,:,:,0])\n",
    "plt.show()\n",
    "\n",
    "plt.imshow(out_p[0,:,:,0])\n",
    "plt.show()\n"
   ]
  },
  {
   "cell_type": "code",
   "execution_count": 75,
   "metadata": {},
   "outputs": [
    {
     "data": {
      "text/plain": [
       "0.47538894"
      ]
     },
     "execution_count": 75,
     "metadata": {},
     "output_type": "execute_result"
    }
   ],
   "source": [
    "np.min(out_p)"
   ]
  }
 ],
 "metadata": {
  "kernelspec": {
   "display_name": "Python 3",
   "language": "python",
   "name": "python3"
  },
  "language_info": {
   "codemirror_mode": {
    "name": "ipython",
    "version": 3
   },
   "file_extension": ".py",
   "mimetype": "text/x-python",
   "name": "python",
   "nbconvert_exporter": "python",
   "pygments_lexer": "ipython3",
   "version": "3.6.3"
  }
 },
 "nbformat": 4,
 "nbformat_minor": 2
}
